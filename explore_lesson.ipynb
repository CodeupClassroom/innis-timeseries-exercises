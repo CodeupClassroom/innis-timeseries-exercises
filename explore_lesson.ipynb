{
 "cells": [
  {
   "cell_type": "markdown",
   "metadata": {},
   "source": [
    "# Time Series EDA\n",
    "\n",
    "- Time Series Train-Test Split\n",
    "    1. Human-based\n",
    "    1. Percentage Based\n",
    "    1. Cross Validate Splits\n",
    "- 10 Awesome Time Series Visualizations to Impress Your Friends and Family\n",
    "    1. Blow off the time series\n",
    "    1. y over time\n",
    "    1. y averaged over various periods over time\n",
    "    1. change in y over time\n",
    "    1. Seasonal Plot\n",
    "    1. Seasonal Subseries Plot\n",
    "    1. Lag Plot\n",
    "    1. Autocorrelation Plot\n",
    "    1. Seasonal Decomposition\n",
    "    1. Area Plots\n",
    "- Aside: working with dates in matplotlib\n",
    "- Aside: `strftime` ([Cheatsheet](https://zach.lol/strftime.html))"
   ]
  },
  {
   "cell_type": "markdown",
   "metadata": {},
   "source": [
    "## Setup\n",
    "\n",
    "We'll be looking at temperature data for san antonio from late 2012 to late 2017.\n",
    "\n",
    "We'll need to convert from Kelvin to Fahrenheit.\n",
    "\n",
    "°F = (K - 273.15) x 1.8000 + 32.00"
   ]
  },
  {
   "cell_type": "code",
   "execution_count": null,
   "metadata": {},
   "outputs": [],
   "source": [
    "import pandas as pd\n",
    "import matplotlib.pyplot as plt\n",
    "import statsmodels.api as sm\n",
    "import seaborn as sns\n",
    "\n",
    "# plotting defaults\n",
    "plt.rc('figure', figsize=(11, 5))\n",
    "plt.style.use('seaborn-whitegrid')\n",
    "plt.rc('font', size=16)\n",
    "\n",
    "url = 'https://gist.githubusercontent.com/ryanorsinger/0ec766c66f4089bdcbc1d4fb294a3394/raw/197c1f0d7b55a45f29437811bc73d9c4ef8af647/sa_temps.csv'\n",
    "df = pd.read_csv(url, index_col='datetime', parse_dates=True).sort_index()\n",
    "df.temp = (df.temp - 273.15) * 1.8 + 32\n",
    "\n",
    "print('Date Range:', df.index.min(), 'to', df.index.max())\n",
    "df.head()\n",
    "\n",
    "df.shape[0]"
   ]
  },
  {
   "cell_type": "code",
   "execution_count": null,
   "metadata": {},
   "outputs": [],
   "source": [
    "df.temp.describe()"
   ]
  },
  {
   "cell_type": "markdown",
   "metadata": {},
   "source": [
    "- **seasonality**: a repeated cycle in the data. Occurs at a fixed frequency. In our weather data there is yearly and daily seasonality\n",
    "- **trend**: long term upwards or downwards movement\n",
    "- **cycle**: Some arbitrary chunk of time, usually longer than a season, or consists of multiple seasons"
   ]
  },
  {
   "attachments": {
    "image.png": {
     "image/png": "[encoded data removed]"
    }
   },
   "cell_type": "markdown",
   "metadata": {},
   "source": [
    "## Train-Test Split\n",
    "\n",
    "- Ideally all splits contain a season\n",
    "- Human-based: use the last year as test\n",
    "- Percentage based: use the last 20% as test\n",
    "- Cross Validate: break data up into slices and use successive slices as train and test repeatedly (`sklearn.model_selection.TimeSeriesSplit`)\n",
    "    ![image.png](attachment:image.png)"
   ]
  },
  {
   "cell_type": "code",
   "execution_count": null,
   "metadata": {},
   "outputs": [],
   "source": [
    "# Percentage-Based\n",
    "train_size = .70\n",
    "n = df.shape[0]\n",
    "test_start_index = round(train_size * n)\n",
    "\n",
    "train = df[:test_start_index] # everything up (not including) to the test_start_index\n",
    "test = df[test_start_index:] # everything from the test_start_index to the end\n",
    "\n",
    "plt.plot(train.index, train.temp)\n",
    "plt.plot(test.index, test.temp)"
   ]
  },
  {
   "cell_type": "code",
   "execution_count": null,
   "metadata": {},
   "outputs": [],
   "source": [
    "# Human-Based\n",
    "train = df[:'2016'] # includes 2016\n",
    "test = df['2017']\n",
    "\n",
    "plt.plot(train.index, train.temp)\n",
    "plt.plot(test.index, test.temp)"
   ]
  },
  {
   "cell_type": "markdown",
   "metadata": {},
   "source": [
    "## Visualizations"
   ]
  },
  {
   "cell_type": "code",
   "execution_count": null,
   "metadata": {},
   "outputs": [],
   "source": [
    "y = train.temp\n",
    "y.head()"
   ]
  },
  {
   "cell_type": "markdown",
   "metadata": {},
   "source": [
    "### 1 Blow off the time series"
   ]
  },
  {
   "cell_type": "code",
   "execution_count": null,
   "metadata": {},
   "outputs": [],
   "source": [
    "train.temp.plot.hist()"
   ]
  },
  {
   "cell_type": "code",
   "execution_count": null,
   "metadata": {},
   "outputs": [],
   "source": [
    "ax = train.groupby(train.index.month).temp.mean().plot.bar()\n",
    "ax.tick_params('x', rotation=0)"
   ]
  },
  {
   "cell_type": "code",
   "execution_count": null,
   "metadata": {},
   "outputs": [],
   "source": [
    "train['weekday'] = train.index.day_name()\n",
    "train.groupby('weekday').temp.mean().plot.bar()"
   ]
  },
  {
   "cell_type": "code",
   "execution_count": null,
   "metadata": {},
   "outputs": [],
   "source": [
    "sns.boxplot(data=train, y='temp', x='weekday')"
   ]
  },
  {
   "cell_type": "markdown",
   "metadata": {},
   "source": [
    "### 2 y over time"
   ]
  },
  {
   "cell_type": "code",
   "execution_count": null,
   "metadata": {},
   "outputs": [],
   "source": [
    "y.head()"
   ]
  },
  {
   "cell_type": "code",
   "execution_count": null,
   "metadata": {},
   "outputs": [],
   "source": [
    "y.plot()"
   ]
  },
  {
   "cell_type": "markdown",
   "metadata": {},
   "source": [
    "### 3 y averaged over various periods over time"
   ]
  },
  {
   "cell_type": "code",
   "execution_count": null,
   "metadata": {},
   "outputs": [],
   "source": [
    "y.resample('6H').mean().plot()"
   ]
  },
  {
   "cell_type": "code",
   "execution_count": null,
   "metadata": {},
   "outputs": [],
   "source": [
    "y.resample('2W').mean().plot()"
   ]
  },
  {
   "cell_type": "code",
   "execution_count": null,
   "metadata": {},
   "outputs": [],
   "source": [
    "y.plot(alpha=.2, label='Hourly')\n",
    "y.resample('D').mean().plot(alpha=.5, label='Daily')\n",
    "y.resample('W').mean().plot(alpha=.8, label='Weekly')\n",
    "y.resample('M').mean().plot(label='Montly')\n",
    "y.resample('Y').mean().plot(label='Yearly')\n",
    "plt.legend()"
   ]
  },
  {
   "cell_type": "markdown",
   "metadata": {},
   "source": [
    "### 4 change in y over time"
   ]
  },
  {
   "cell_type": "code",
   "execution_count": null,
   "metadata": {},
   "outputs": [],
   "source": [
    "y.resample('W').mean().diff().plot()"
   ]
  },
  {
   "cell_type": "code",
   "execution_count": null,
   "metadata": {},
   "outputs": [],
   "source": [
    "fig, (ax1, ax2) = plt.subplots(2, 1, sharex=True, sharey=True, figsize=(16, 9))\n",
    "\n",
    "ax = y.resample('M').mean().diff(12).plot(ax=ax1)\n",
    "ax1.hlines(0, *ax1.get_xlim())\n",
    "ax1.set(title='Difference from the same month last year')\n",
    "\n",
    "y.resample('M').mean().plot(ax=ax2)\n",
    "ax2.set(title='Temperature over time')"
   ]
  },
  {
   "cell_type": "markdown",
   "metadata": {},
   "source": [
    "### 5 Seasonal Plot\n",
    "\n",
    "- xaxis: month \n",
    "- yaxis: y\n",
    "- color: year"
   ]
  },
  {
   "cell_type": "code",
   "execution_count": null,
   "metadata": {},
   "outputs": [],
   "source": [
    "# .unstack turns an index level into columns\n",
    "y.groupby([y.index.year, y.index.month]).mean().unstack(0).plot(title='Seasonal Plot')"
   ]
  },
  {
   "cell_type": "markdown",
   "metadata": {},
   "source": [
    "### 6 Seasonal Subseries Plot"
   ]
  },
  {
   "cell_type": "code",
   "execution_count": null,
   "metadata": {},
   "outputs": [],
   "source": [
    "table = y.groupby([y.index.year, y.index.month]).mean().unstack()\n",
    "\n",
    "fig, axs = plt.subplots(1, 12, sharey=True, sharex=True)\n",
    "for ax, (month, subset) in zip(axs, table.iteritems()):\n",
    "    subset.plot(ax=ax, title=month)\n",
    "    ax.hlines(subset.mean(), *ax.get_xlim())\n",
    "    ax.set(xlabel='')\n",
    "    \n",
    "fig.suptitle('Seasonal Subseries Plot') # super-title for the overall figure\n",
    "# fig.tight_layout()\n",
    "fig.subplots_adjust(wspace=0)"
   ]
  },
  {
   "cell_type": "markdown",
   "metadata": {},
   "source": [
    "### 7 Lag Plot"
   ]
  },
  {
   "cell_type": "code",
   "execution_count": null,
   "metadata": {},
   "outputs": [],
   "source": [
    "train['y(t + 1)'] = train.temp.shift(-1)\n",
    "ax = train.plot.scatter(x='temp', y='y(t + 1)')\n",
    "ax.set(xlabel='t', ylabel='t + 1')"
   ]
  },
  {
   "cell_type": "code",
   "execution_count": null,
   "metadata": {},
   "outputs": [],
   "source": [
    "weekly = train.resample('W').mean().drop(columns='y(t + 1)')\n",
    "weekly['the_next_week'] = weekly.temp.shift(-1)\n",
    "weekly = weekly.rename(columns={'temp': 'this_week'})\n",
    "weekly.plot.scatter(x='this_week', y='the_next_week')\n",
    "weekly"
   ]
  },
  {
   "cell_type": "code",
   "execution_count": null,
   "metadata": {},
   "outputs": [],
   "source": [
    "weekly = train.resample('W').mean().drop(columns='y(t + 1)')\n",
    "weekly['8_weeks_out'] = weekly.temp.shift(-8)\n",
    "weekly = weekly.rename(columns={'temp': 'this_week'})\n",
    "weekly.plot.scatter(x='this_week', y='8_weeks_out')\n",
    "weekly"
   ]
  },
  {
   "cell_type": "code",
   "execution_count": null,
   "metadata": {},
   "outputs": [],
   "source": [
    "weekly = train.resample('W').mean().drop(columns='y(t + 1)')\n",
    "weekly['half_a_year_later'] = weekly.temp.shift(-26)\n",
    "weekly = weekly.rename(columns={'temp': 'this_week'})\n",
    "weekly.plot.scatter(x='this_week', y='half_a_year_later', figsize=(13, 13))\n",
    "weekly"
   ]
  },
  {
   "cell_type": "code",
   "execution_count": null,
   "metadata": {},
   "outputs": [],
   "source": [
    "pd.plotting.lag_plot(train.temp.resample('W').mean(), lag=52)"
   ]
  },
  {
   "cell_type": "code",
   "execution_count": null,
   "metadata": {},
   "outputs": [],
   "source": [
    "pd.plotting.lag_plot(train.temp.resample('W').mean(), lag=156) # 156 -- three years out"
   ]
  },
  {
   "cell_type": "markdown",
   "metadata": {},
   "source": [
    "### 8 Autocorrelation Plot\n",
    "\n",
    "- What is pearson's r as a function of the lag time?\n",
    "- **autocorrelation**: a series correlation with itself\n",
    "- can help to identify seasonality"
   ]
  },
  {
   "cell_type": "code",
   "execution_count": null,
   "metadata": {},
   "outputs": [],
   "source": [
    "pd.plotting.autocorrelation_plot(train.temp.resample('W').mean())"
   ]
  },
  {
   "cell_type": "markdown",
   "metadata": {},
   "source": [
    "### 9 Seasonal Decomposition"
   ]
  },
  {
   "cell_type": "code",
   "execution_count": null,
   "metadata": {},
   "outputs": [],
   "source": [
    "pd.plotting.autocorrelation_plot(y)"
   ]
  },
  {
   "cell_type": "code",
   "execution_count": null,
   "metadata": {},
   "outputs": [],
   "source": [
    "y = train.temp.resample('W').mean()\n",
    "\n",
    "result = sm.tsa.seasonal_decompose(y)\n",
    "decomposition = pd.DataFrame({\n",
    "    'y': result.observed,\n",
    "    'trend': result.trend,\n",
    "    'seasonal': result.seasonal,\n",
    "    'resid': result.resid,\n",
    "})"
   ]
  },
  {
   "cell_type": "code",
   "execution_count": null,
   "metadata": {},
   "outputs": [],
   "source": [
    "decomposition.iloc[:, 1:].plot()"
   ]
  },
  {
   "cell_type": "markdown",
   "metadata": {},
   "source": [
    "Additive seasonal decomposition model:\n",
    "\n",
    "$$ y_t = S_t + T_t + R_t $$\n",
    "\n",
    "multiplicative model\n",
    "\n",
    "$$ y_t = S_t \\times T_t \\times R_t $$"
   ]
  },
  {
   "cell_type": "code",
   "execution_count": null,
   "metadata": {},
   "outputs": [],
   "source": [
    "result.plot()\n",
    "None"
   ]
  },
  {
   "cell_type": "markdown",
   "metadata": {},
   "source": [
    "### 10 Area Plots\n",
    "\n",
    "- can we visualize categories over time?"
   ]
  },
  {
   "cell_type": "code",
   "execution_count": null,
   "metadata": {},
   "outputs": [],
   "source": [
    "train = train.drop(columns='y(t + 1)')"
   ]
  },
  {
   "cell_type": "code",
   "execution_count": null,
   "metadata": {},
   "outputs": [],
   "source": [
    "train = train.resample('D').mean()"
   ]
  },
  {
   "cell_type": "code",
   "execution_count": null,
   "metadata": {},
   "outputs": [],
   "source": [
    "train['temp_bin'] = pd.qcut(train.temp, 4, labels=['cold', 'cool', 'warm', 'hot'])"
   ]
  },
  {
   "cell_type": "code",
   "execution_count": null,
   "metadata": {},
   "outputs": [],
   "source": [
    "train.groupby('temp_bin').mean()"
   ]
  },
  {
   "cell_type": "markdown",
   "metadata": {},
   "source": [
    "How is the distribution of temp_bin changing over time?"
   ]
  },
  {
   "cell_type": "code",
   "execution_count": null,
   "metadata": {},
   "outputs": [],
   "source": [
    "ax = (train.groupby('temp_bin')\n",
    " .resample('M')\n",
    " .size()\n",
    " .unstack(0)\n",
    " .apply(lambda row: row / row.sum(), axis=1)\n",
    " .plot.area(title='Temp bin over time', ylabel='% of the month'))\n",
    "ax.legend(loc=\"upper right\", bbox_to_anchor=(-.075, 1))\n",
    "ax.yaxis.set_major_formatter('{:.0%}'.format)"
   ]
  },
  {
   "cell_type": "markdown",
   "metadata": {},
   "source": [
    "## `strftime`\n",
    "\n",
    "[Cheatsheet](https://zgulde.net/strftime.html) or `man strftime`"
   ]
  },
  {
   "cell_type": "code",
   "execution_count": null,
   "metadata": {},
   "outputs": [],
   "source": [
    "train.index.strftime('%w-%A')"
   ]
  },
  {
   "cell_type": "code",
   "execution_count": null,
   "metadata": {},
   "outputs": [],
   "source": [
    "df.head(5).index.strftime('The date is %B %d, %Y and the time is %I:%M %p')"
   ]
  },
  {
   "cell_type": "code",
   "execution_count": null,
   "metadata": {},
   "outputs": [],
   "source": [
    "ax = train.groupby(train.index.strftime('%m-%b')).mean().plot.bar()\n",
    "ax.set_xticklabels([t.get_text()[3:] for t in ax.get_xticklabels()], rotation=0)"
   ]
  },
  {
   "cell_type": "markdown",
   "metadata": {},
   "source": [
    "See also: pd.Categorical"
   ]
  },
  {
   "cell_type": "markdown",
   "metadata": {},
   "source": [
    "## Matplotlib Dates"
   ]
  },
  {
   "cell_type": "code",
   "execution_count": null,
   "metadata": {},
   "outputs": [],
   "source": [
    "from matplotlib.dates import DateFormatter, MonthLocator"
   ]
  },
  {
   "cell_type": "code",
   "execution_count": null,
   "metadata": {},
   "outputs": [],
   "source": [
    "fig, ax = plt.subplots()\n",
    "\n",
    "weekly = df.temp.resample('W').mean()\n",
    "\n",
    "x = weekly.index\n",
    "y = weekly.values\n",
    "\n",
    "ax.plot(x, y)\n",
    "\n",
    "ax.xaxis.set_major_formatter(DateFormatter('%b %y'))\n",
    "ax.xaxis.set_major_locator(MonthLocator(interval=6))\n",
    "ax.tick_params(axis='x', rotation=30)\n",
    "for tick in ax.xaxis.get_majorticklabels():\n",
    "    tick.set_ha('right')"
   ]
  }
 ],
 "metadata": {
  "kernelspec": {
   "display_name": "Python 3 (ipykernel)",
   "language": "python",
   "name": "python3"
  },
  "language_info": {
   "codemirror_mode": {
    "name": "ipython",
    "version": 3
   },
   "file_extension": ".py",
   "mimetype": "text/x-python",
   "name": "python",
   "nbconvert_exporter": "python",
   "pygments_lexer": "ipython3",
   "version": "3.9.7"
  }
 },
 "nbformat": 4,
 "nbformat_minor": 4
}
