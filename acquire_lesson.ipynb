{
 "cells": [
  {
   "cell_type": "markdown",
   "id": "a2ff126d",
   "metadata": {},
   "source": [
    "# Data Acquisition\n",
    "\n",
    "- request / response\n",
    "- HTTP: plain text transportation\n",
    "- HTML: document structure (compilation target for markdown)\n",
    "- JSON: data interchange format based on JavaScript\n",
    "- API: How things are interacted with programatically\n",
    "- REST: a prescription for application urls\n",
    "\n",
    "RESTful urls:\n",
    "\n",
    "| HTTP Method | Endpoint         | Description                |\n",
    "| ---         | ---              | ---                        |\n",
    "| GET         | /{resource}/{id} | Read details of a resource |\n",
    "| GET         | /{resource}      | A listing of resources     |\n",
    "| POST        | /{resource}      | Create a new resource      |\n",
    "| PATCH       | /{resource}/{id} | Update a resource          |\n",
    "| DELETE      | /{resource}/{id} | Delete a resource          |\n",
    "\n",
    "We'll focus on the GET methods as they are the ones that retrieve and let us read information."
   ]
  },
  {
   "cell_type": "code",
   "execution_count": null,
   "id": "952ea8e0",
   "metadata": {},
   "outputs": [],
   "source": [
    "import pandas as pd\n",
    "# The requests library simplifies the process of making http requests\n",
    "import requests"
   ]
  },
  {
   "cell_type": "markdown",
   "id": "ead4840e",
   "metadata": {},
   "source": [
    "Example HTML pages:\n",
    "\n",
    "- http://example.com\n",
    "- https://alumni.codeup.com"
   ]
  },
  {
   "cell_type": "code",
   "execution_count": null,
   "id": "16dd4329",
   "metadata": {},
   "outputs": [],
   "source": [
    "response = requests.get('http://example.com')"
   ]
  },
  {
   "cell_type": "markdown",
   "id": "4b4befca",
   "metadata": {},
   "source": [
    "Demo: the response text is html"
   ]
  },
  {
   "cell_type": "markdown",
   "id": "050b0023",
   "metadata": {},
   "source": [
    "Example JSON API endpoints:\n",
    "\n",
    "- https://aphorisms.glitch.me\n",
    "- https://jsonplaceholder.typicode.com/posts/1\n",
    "- https://jsonplaceholder.typicode.com/users"
   ]
  },
  {
   "cell_type": "code",
   "execution_count": null,
   "id": "a9161e37",
   "metadata": {},
   "outputs": [],
   "source": [
    "response = requests.get('https://aphorisms.glitch.me')"
   ]
  },
  {
   "cell_type": "markdown",
   "id": "87c30659",
   "metadata": {},
   "source": [
    "Demo: json responses are a special case"
   ]
  },
  {
   "cell_type": "markdown",
   "id": "d4332fa1",
   "metadata": {},
   "source": [
    "Demo: converting /users to a dataframe"
   ]
  },
  {
   "cell_type": "markdown",
   "id": "9981c7be",
   "metadata": {},
   "source": [
    "- https://swapi.dev/api/people/5\n",
    "- https://api.data.codeup.com"
   ]
  },
  {
   "cell_type": "markdown",
   "id": "21acddb3",
   "metadata": {},
   "source": [
    "Demo: multiple pages and wrapper responses"
   ]
  }
 ],
 "metadata": {
  "kernelspec": {
   "display_name": "Python 3 (ipykernel)",
   "language": "python",
   "name": "python3"
  },
  "language_info": {
   "codemirror_mode": {
    "name": "ipython",
    "version": 3
   },
   "file_extension": ".py",
   "mimetype": "text/x-python",
   "name": "python",
   "nbconvert_exporter": "python",
   "pygments_lexer": "ipython3",
   "version": "3.9.7"
  }
 },
 "nbformat": 4,
 "nbformat_minor": 5
}
