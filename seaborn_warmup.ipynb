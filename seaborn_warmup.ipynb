{
 "cells": [
  {
   "cell_type": "markdown",
   "id": "bbaf361e",
   "metadata": {},
   "source": [
    "# Seaborn Warmup Exercise"
   ]
  },
  {
   "cell_type": "code",
   "execution_count": null,
   "id": "663d43c0",
   "metadata": {},
   "outputs": [],
   "source": [
    "import seaborn as sns\n",
    "\n",
    "df = sns.load_dataset('mpg')\n",
    "df.head()"
   ]
  },
  {
   "cell_type": "markdown",
   "id": "b9ae30a0",
   "metadata": {},
   "source": [
    "Use seaborn to create the following visualizations:\n",
    "\n",
    "1. Make a barplot of the average horsepower by origin. Add the keyword argument `ci=None`. What does this change?\n",
    "1. Make a scatterplot of displacement vs horsepower. Add the keyword argument `hue='weight'`. What does this change? Add the keyword argument `palette='Greens'`. What does this change?\n",
    "1. Make a scatterplot of displacement vs mpg. Add the keyword argument `hue='cylinders'`. What does this change? Add the line of code below in a seperate cell, run it, and then create your scatterplot again. What does this change?\n",
    "\n",
    "    ```python\n",
    "    df.cylinders = df.cylinders.astype('category')\n",
    "    ```"
   ]
  }
 ],
 "metadata": {
  "kernelspec": {
   "display_name": "Python 3 (ipykernel)",
   "language": "python",
   "name": "python3"
  },
  "language_info": {
   "codemirror_mode": {
    "name": "ipython",
    "version": 3
   },
   "file_extension": ".py",
   "mimetype": "text/x-python",
   "name": "python",
   "nbconvert_exporter": "python",
   "pygments_lexer": "ipython3",
   "version": "3.9.7"
  }
 },
 "nbformat": 4,
 "nbformat_minor": 5
}
