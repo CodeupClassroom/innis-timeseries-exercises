{
 "cells": [
  {
   "cell_type": "code",
   "execution_count": 2,
   "id": "ef487a38",
   "metadata": {},
   "outputs": [],
   "source": [
    "import requests\n",
    "import pandas as pd"
   ]
  },
  {
   "cell_type": "code",
   "execution_count": 4,
   "id": "5fc30ec8",
   "metadata": {},
   "outputs": [],
   "source": [
    "response = requests.get('https://api.data.codeup.com/api/v1/stores')\n",
    "data = response.json()\n",
    "stores = pd.DataFrame(data['payload']['stores'])"
   ]
  },
  {
   "cell_type": "code",
   "execution_count": 16,
   "id": "a6ebf809",
   "metadata": {},
   "outputs": [],
   "source": [
    "stores = pd.DataFrame(stores)"
   ]
  },
  {
   "cell_type": "markdown",
   "id": "38953eb4",
   "metadata": {},
   "source": [
    "2 Approaches:\n",
    "\n",
    "- loop until we don't have a next page\n",
    "- make 1 request and figure out the max page, then loop over all the pages"
   ]
  },
  {
   "cell_type": "code",
   "execution_count": 18,
   "id": "17cd9971",
   "metadata": {},
   "outputs": [
    {
     "name": "stdout",
     "output_type": "stream",
     "text": [
      "Getting page 3 of 3: https://api.data.codeup.com/api/v1/items?page=3"
     ]
    }
   ],
   "source": [
    "# Approach 1\n",
    "domain = 'https://api.data.codeup.com'\n",
    "endpoint = '/api/v1/items'\n",
    "items = []\n",
    "\n",
    "while True:\n",
    "    url = domain + endpoint\n",
    "    response = requests.get(url)\n",
    "    data = response.json()\n",
    "    print(f'\\rGetting page {data[\"payload\"][\"page\"]} of {data[\"payload\"][\"max_page\"]}: {url}', end='')\n",
    "    items.extend(data['payload']['items'])\n",
    "    endpoint = data['payload']['next_page']\n",
    "    if endpoint is None:\n",
    "        break"
   ]
  },
  {
   "cell_type": "code",
   "execution_count": 11,
   "id": "71b05866",
   "metadata": {},
   "outputs": [],
   "source": [
    "items = pd.DataFrame(items)"
   ]
  },
  {
   "cell_type": "code",
   "execution_count": 12,
   "id": "2fe442a1",
   "metadata": {},
   "outputs": [
    {
     "name": "stdout",
     "output_type": "stream",
     "text": [
      "183/183 https://api.data.codeup.com/api/v1/sales?page=183"
     ]
    }
   ],
   "source": [
    "# Approach 2\n",
    "base_url = 'https://api.data.codeup.com/api/v1/sales?page='\n",
    "sales = []\n",
    "\n",
    "# make the first request\n",
    "url = base_url + str(1)\n",
    "response = requests.get(url)\n",
    "data = response.json()\n",
    "max_page = data['payload']['max_page']\n",
    "sales.extend(data['payload']['sales'])\n",
    "\n",
    "# We already made the request to the first page, so we'll start at 2.\n",
    "# We add 1 to max_page because the range() function is exclusive of the endpoint\n",
    "page_range = range(2, max_page + 1)\n",
    "\n",
    "for page in page_range:\n",
    "    url = base_url + str(page)\n",
    "    print(f'\\rFetching page {page}/{max_page} {url}', end='')\n",
    "    response = requests.get(url)\n",
    "    data = response.json()\n",
    "    sales.extend(data['payload']['sales'])"
   ]
  },
  {
   "cell_type": "code",
   "execution_count": 13,
   "id": "d3caa142",
   "metadata": {},
   "outputs": [],
   "source": [
    "sales = pd.DataFrame(sales)"
   ]
  },
  {
   "cell_type": "code",
   "execution_count": 17,
   "id": "76951cf3",
   "metadata": {},
   "outputs": [],
   "source": [
    "stores.to_csv('stores.csv', index=False)\n",
    "items.to_csv('items.csv', index=False)\n",
    "sales.to_csv('sales.csv', index=False)"
   ]
  }
 ],
 "metadata": {
  "kernelspec": {
   "display_name": "Python 3 (ipykernel)",
   "language": "python",
   "name": "python3"
  },
  "language_info": {
   "codemirror_mode": {
    "name": "ipython",
    "version": 3
   },
   "file_extension": ".py",
   "mimetype": "text/x-python",
   "name": "python",
   "nbconvert_exporter": "python",
   "pygments_lexer": "ipython3",
   "version": "3.9.7"
  }
 },
 "nbformat": 4,
 "nbformat_minor": 5
}
